{
  "nbformat": 4,
  "nbformat_minor": 0,
  "metadata": {
    "colab": {
      "provenance": [],
      "authorship_tag": "ABX9TyOQMaAFU6BXDEHAJJ9wV8+c",
      "include_colab_link": true
    },
    "kernelspec": {
      "name": "python3",
      "display_name": "Python 3"
    },
    "language_info": {
      "name": "python"
    }
  },
  "cells": [
    {
      "cell_type": "markdown",
      "metadata": {
        "id": "view-in-github",
        "colab_type": "text"
      },
      "source": [
        "<a href=\"https://colab.research.google.com/github/DaniloLealProfissional/Imersao_Alura_Devops_e_Cloud/blob/main/Aula02_Machine_Learn.ipynb\" target=\"_parent\"><img src=\"https://colab.research.google.com/assets/colab-badge.svg\" alt=\"Open In Colab\"/></a>"
      ]
    },
    {
      "cell_type": "code",
      "execution_count": null,
      "metadata": {
        "id": "BZAmWJ0RdG5T"
      },
      "outputs": [],
      "source": [
        "#Para essa atividade será necessário importar a biblioteca pandam que é uma biblioteca do Python utilizada para análise e manipulação de dados.\n",
        "import pandas as pd\n",
        "\n",
        "# Lendo um CSV de uma URL\n",
        "base = \"https://gist.githubusercontent.com/guilhermesilveira/b9dd8e4b62b9e22ebcb9c8e89c271de4/raw/c69ec4b708fba03c445397b6a361db4345c83d7a/tracking.csv\"\n",
        "dados = pd.read_csv(base)\n",
        "\n",
        "#A função .head() no Pandas é usada para visualizar as primeiras linhas de um DataFrame.\n",
        "dados.head()"
      ]
    },
    {
      "cell_type": "code",
      "source": [
        "#Neste exemplo preciso estimar qual é a probabilidade das pessoas comprarem um produto do site, portanto a tabela \"y\" aquela que precisamos entender se alguém irá comprar ou não.\n",
        "y = dados[\"comprou\"]\n",
        "x = dados[[\"inicial\", \"palestras\",\t\"contato\",\t\"patrocinio\"]]"
      ],
      "metadata": {
        "id": "UkFkXW4yef1l"
      },
      "execution_count": 2,
      "outputs": []
    },
    {
      "cell_type": "code",
      "source": [
        "from sklearn.svm import LinearSVC\n",
        "from sklearn.model_selection import train_test_split\n",
        "from sklearn.metrics import accuracy_score\n",
        "\n",
        "# Ao criar uma \"seed\" teremos um resultado replicável, o objetivo é fixar a aleatoriedade.\n",
        "seed = 3264237\n",
        "\n",
        "# Quando utilizamos o estilo de seleção \"train_test_split\" estamos aplicando a aleatóriedade a este teste.\n",
        "# A função \"random_state\" estamos garantindo que os números aleatórios serão sempre os mesmos a serem considerados na possibilidade do valor da seed que foi determinada.\n",
        "# Para evitar uma distribuição desbalanceada, vamos pedir proporcionalidade aplicando o parâmetro stratify na função train_test_split().\n",
        "# Ele olha para os rótulos (y) e garante que a proporção de cada classe seja mantida tanto no conjunto de treino quanto no de teste.\n",
        "treino_x, teste_x, treino_y, teste_y = train_test_split(x, y, random_state = seed, stratify=y)\n",
        "\n",
        "print(f\"Treinaremos com {len(treino_x)} elementos\")\n",
        "print(f\"Testaremos com {len(teste_x)} elementos\")\n",
        "\n",
        "# Definimos qual será a base de conhecimento da nossa máquina, e logo após pedimos para ele realizar uma previsão.\n",
        "modelo = LinearSVC()\n",
        "modelo.fit(treino_x, treino_y)\n",
        "previsoes = modelo.predict(teste_x)\n",
        "\n",
        "taxa_de_acerto = accuracy_score(teste_y, previsoes) * 100\n",
        "print(f\"A taxa de acerto foi de {taxa_de_acerto:.2f}%\")"
      ],
      "metadata": {
        "colab": {
          "base_uri": "https://localhost:8080/"
        },
        "id": "BXcuSheTqXWa",
        "outputId": "7b8af896-8bb2-42eb-8734-c74fd227f4cd"
      },
      "execution_count": 3,
      "outputs": [
        {
          "output_type": "stream",
          "name": "stdout",
          "text": [
            "Treinaremos com 74 elementos\n",
            "Testaremos com 25 elementos\n",
            "A taxa de acerto foi de 96.00%\n"
          ]
        }
      ]
    },
    {
      "cell_type": "code",
      "source": [],
      "metadata": {
        "id": "tDodxr-av5oS"
      },
      "execution_count": 3,
      "outputs": []
    }
  ]
}